{
 "cells": [
  {
   "cell_type": "code",
   "execution_count": 12,
   "metadata": {
    "collapsed": false
   },
   "outputs": [],
   "source": [
    "import pandas as pd\n",
    "import matplotlib.pyplot as plt\n",
    "%matplotlib inline\n",
    "plt.style.use('ggplot')\n",
    "\n",
    "\n",
    "df = pd.read_csv(\"562925146_72018_1328_airline_delay_causes.csv\")"
   ]
  },
  {
   "cell_type": "code",
   "execution_count": 8,
   "metadata": {
    "collapsed": false
   },
   "outputs": [
    {
     "data": {
      "text/html": [
       "<div>\n",
       "<table border=\"1\" class=\"dataframe\">\n",
       "  <thead>\n",
       "    <tr style=\"text-align: right;\">\n",
       "      <th></th>\n",
       "      <th>year</th>\n",
       "      <th>month</th>\n",
       "      <th>carrier</th>\n",
       "      <th>carrier_name</th>\n",
       "      <th>airport</th>\n",
       "      <th>airport_name</th>\n",
       "      <th>arr_flights</th>\n",
       "      <th>arr_del15</th>\n",
       "      <th>carrier_ct</th>\n",
       "      <th>weather_ct</th>\n",
       "      <th>...</th>\n",
       "      <th>late_aircraft_ct</th>\n",
       "      <th>arr_cancelled</th>\n",
       "      <th>arr_diverted</th>\n",
       "      <th>arr_delay</th>\n",
       "      <th>carrier_delay</th>\n",
       "      <th>weather_delay</th>\n",
       "      <th>nas_delay</th>\n",
       "      <th>security_delay</th>\n",
       "      <th>late_aircraft_delay</th>\n",
       "      <th>Unnamed: 21</th>\n",
       "    </tr>\n",
       "  </thead>\n",
       "  <tbody>\n",
       "    <tr>\n",
       "      <th>0</th>\n",
       "      <td>2003</td>\n",
       "      <td>6</td>\n",
       "      <td>AA</td>\n",
       "      <td>American Airlines Inc.</td>\n",
       "      <td>ABQ</td>\n",
       "      <td>Albuquerque, NM: Albuquerque International Sun...</td>\n",
       "      <td>307.0</td>\n",
       "      <td>56.0</td>\n",
       "      <td>14.68</td>\n",
       "      <td>10.79</td>\n",
       "      <td>...</td>\n",
       "      <td>9.96</td>\n",
       "      <td>1.0</td>\n",
       "      <td>1.0</td>\n",
       "      <td>2530.0</td>\n",
       "      <td>510.0</td>\n",
       "      <td>621.0</td>\n",
       "      <td>676.0</td>\n",
       "      <td>25.0</td>\n",
       "      <td>698.0</td>\n",
       "      <td>NaN</td>\n",
       "    </tr>\n",
       "    <tr>\n",
       "      <th>1</th>\n",
       "      <td>2003</td>\n",
       "      <td>6</td>\n",
       "      <td>AA</td>\n",
       "      <td>American Airlines Inc.</td>\n",
       "      <td>ANC</td>\n",
       "      <td>Anchorage, AK: Ted Stevens Anchorage Internati...</td>\n",
       "      <td>90.0</td>\n",
       "      <td>27.0</td>\n",
       "      <td>7.09</td>\n",
       "      <td>2.00</td>\n",
       "      <td>...</td>\n",
       "      <td>7.16</td>\n",
       "      <td>0.0</td>\n",
       "      <td>0.0</td>\n",
       "      <td>1390.0</td>\n",
       "      <td>271.0</td>\n",
       "      <td>83.0</td>\n",
       "      <td>581.0</td>\n",
       "      <td>0.0</td>\n",
       "      <td>455.0</td>\n",
       "      <td>NaN</td>\n",
       "    </tr>\n",
       "    <tr>\n",
       "      <th>2</th>\n",
       "      <td>2003</td>\n",
       "      <td>6</td>\n",
       "      <td>AA</td>\n",
       "      <td>American Airlines Inc.</td>\n",
       "      <td>ATL</td>\n",
       "      <td>Atlanta, GA: Hartsfield-Jackson Atlanta Intern...</td>\n",
       "      <td>752.0</td>\n",
       "      <td>186.0</td>\n",
       "      <td>33.99</td>\n",
       "      <td>27.82</td>\n",
       "      <td>...</td>\n",
       "      <td>17.53</td>\n",
       "      <td>5.0</td>\n",
       "      <td>0.0</td>\n",
       "      <td>8314.0</td>\n",
       "      <td>1367.0</td>\n",
       "      <td>1722.0</td>\n",
       "      <td>3817.0</td>\n",
       "      <td>139.0</td>\n",
       "      <td>1269.0</td>\n",
       "      <td>NaN</td>\n",
       "    </tr>\n",
       "    <tr>\n",
       "      <th>3</th>\n",
       "      <td>2003</td>\n",
       "      <td>6</td>\n",
       "      <td>AA</td>\n",
       "      <td>American Airlines Inc.</td>\n",
       "      <td>AUS</td>\n",
       "      <td>Austin, TX: Austin - Bergstrom International</td>\n",
       "      <td>842.0</td>\n",
       "      <td>174.0</td>\n",
       "      <td>60.24</td>\n",
       "      <td>20.54</td>\n",
       "      <td>...</td>\n",
       "      <td>40.75</td>\n",
       "      <td>9.0</td>\n",
       "      <td>1.0</td>\n",
       "      <td>8344.0</td>\n",
       "      <td>3040.0</td>\n",
       "      <td>1032.0</td>\n",
       "      <td>1835.0</td>\n",
       "      <td>115.0</td>\n",
       "      <td>2322.0</td>\n",
       "      <td>NaN</td>\n",
       "    </tr>\n",
       "    <tr>\n",
       "      <th>4</th>\n",
       "      <td>2003</td>\n",
       "      <td>6</td>\n",
       "      <td>AA</td>\n",
       "      <td>American Airlines Inc.</td>\n",
       "      <td>BDL</td>\n",
       "      <td>Hartford, CT: Bradley International</td>\n",
       "      <td>383.0</td>\n",
       "      <td>55.0</td>\n",
       "      <td>14.90</td>\n",
       "      <td>8.91</td>\n",
       "      <td>...</td>\n",
       "      <td>16.61</td>\n",
       "      <td>0.0</td>\n",
       "      <td>0.0</td>\n",
       "      <td>3137.0</td>\n",
       "      <td>815.0</td>\n",
       "      <td>574.0</td>\n",
       "      <td>555.0</td>\n",
       "      <td>0.0</td>\n",
       "      <td>1193.0</td>\n",
       "      <td>NaN</td>\n",
       "    </tr>\n",
       "  </tbody>\n",
       "</table>\n",
       "<p>5 rows × 22 columns</p>\n",
       "</div>"
      ],
      "text/plain": [
       "   year   month carrier            carrier_name airport  \\\n",
       "0  2003       6      AA  American Airlines Inc.     ABQ   \n",
       "1  2003       6      AA  American Airlines Inc.     ANC   \n",
       "2  2003       6      AA  American Airlines Inc.     ATL   \n",
       "3  2003       6      AA  American Airlines Inc.     AUS   \n",
       "4  2003       6      AA  American Airlines Inc.     BDL   \n",
       "\n",
       "                                        airport_name  arr_flights  arr_del15  \\\n",
       "0  Albuquerque, NM: Albuquerque International Sun...        307.0       56.0   \n",
       "1  Anchorage, AK: Ted Stevens Anchorage Internati...         90.0       27.0   \n",
       "2  Atlanta, GA: Hartsfield-Jackson Atlanta Intern...        752.0      186.0   \n",
       "3       Austin, TX: Austin - Bergstrom International        842.0      174.0   \n",
       "4                Hartford, CT: Bradley International        383.0       55.0   \n",
       "\n",
       "   carrier_ct   weather_ct     ...       late_aircraft_ct  arr_cancelled  \\\n",
       "0       14.68        10.79     ...                   9.96            1.0   \n",
       "1        7.09         2.00     ...                   7.16            0.0   \n",
       "2       33.99        27.82     ...                  17.53            5.0   \n",
       "3       60.24        20.54     ...                  40.75            9.0   \n",
       "4       14.90         8.91     ...                  16.61            0.0   \n",
       "\n",
       "   arr_diverted   arr_delay   carrier_delay  weather_delay  nas_delay  \\\n",
       "0           1.0      2530.0           510.0          621.0      676.0   \n",
       "1           0.0      1390.0           271.0           83.0      581.0   \n",
       "2           0.0      8314.0          1367.0         1722.0     3817.0   \n",
       "3           1.0      8344.0          3040.0         1032.0     1835.0   \n",
       "4           0.0      3137.0           815.0          574.0      555.0   \n",
       "\n",
       "   security_delay  late_aircraft_delay  Unnamed: 21  \n",
       "0            25.0                698.0          NaN  \n",
       "1             0.0                455.0          NaN  \n",
       "2           139.0               1269.0          NaN  \n",
       "3           115.0               2322.0          NaN  \n",
       "4             0.0               1193.0          NaN  \n",
       "\n",
       "[5 rows x 22 columns]"
      ]
     },
     "execution_count": 8,
     "metadata": {},
     "output_type": "execute_result"
    }
   ],
   "source": [
    "df.head()"
   ]
  },
  {
   "cell_type": "code",
   "execution_count": 14,
   "metadata": {
    "collapsed": false
   },
   "outputs": [
    {
     "data": {
      "text/plain": [
       "<matplotlib.axes._subplots.AxesSubplot at 0xf051358>"
      ]
     },
     "execution_count": 14,
     "metadata": {},
     "output_type": "execute_result"
    },
    {
     "data": {
      "image/png": "[encoded data removed]",
      "text/plain": [
       "<matplotlib.figure.Figure at 0xb902a90>"
      ]
     },
     "metadata": {},
     "output_type": "display_data"
    }
   ],
   "source": [
    "grouped_data = df.groupby('year')\n",
    "summed_data = grouped_data.sum()['late_aircraft_delay']\n",
    "summed_data.plot()"
   ]
  },
  {
   "cell_type": "code",
   "execution_count": null,
   "metadata": {
    "collapsed": true
   },
   "outputs": [],
   "source": []
  }
 ],
 "metadata": {
  "kernelspec": {
   "display_name": "Python 2",
   "language": "python",
   "name": "python2"
  },
  "language_info": {
   "codemirror_mode": {
    "name": "ipython",
    "version": 2
   },
   "file_extension": ".py",
   "mimetype": "text/x-python",
   "name": "python",
   "nbconvert_exporter": "python",
   "pygments_lexer": "ipython2",
   "version": "2.7.13"
  }
 },
 "nbformat": 4,
 "nbformat_minor": 2
}
